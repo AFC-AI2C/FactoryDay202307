{
 "cells": [
  {
   "cell_type": "code",
   "execution_count": 1,
   "id": "5cb95358-1bf3-486a-91db-5ee8687f1605",
   "metadata": {},
   "outputs": [],
   "source": [
    "from sklearn.tree import DecisionTreeClassifier\n",
    "#import your model of choice here\n",
    "\n",
    "import numpy as np\n",
    "import pandas as pd"
   ]
  },
  {
   "cell_type": "code",
   "execution_count": 2,
   "id": "d1bdb684-a9ab-47b7-b025-1056a51a8208",
   "metadata": {},
   "outputs": [],
   "source": [
    "def trainHarrisonsBadModel():\n",
    "    \"\"\"reads in data from the train dataset and trains the specified model\"\"\"\n",
    "    \n",
    "    #read in the training dataset\n",
    "    train = pd.read_csv('train.csv')\n",
    "    \n",
    "    #split the label out of the feature set\n",
    "    X = train.drop(\"Target\",axis=1)\n",
    "    y = train['Target']\n",
    "    \n",
    "    #choose a model to use\n",
    "    model = DecisionTreeClassifier()\n",
    "    \n",
    "    #fit the model to the training data\n",
    "    model.fit(X,y)\n",
    "    \n",
    "    #read in the test data and generate a CSV with the predicitons\n",
    "    test = pd.read_csv('test.csv')\n",
    "    pd.DataFrame(model.predict(test)).to_csv('preds.csv',header=False,index=False)\n"
   ]
  },
  {
   "cell_type": "code",
   "execution_count": 3,
   "id": "a2171c07-c376-4d33-99f0-976fe4ca767e",
   "metadata": {},
   "outputs": [],
   "source": [
    "trainHarrisonsBadModel()"
   ]
  },
  {
   "cell_type": "code",
   "execution_count": null,
   "id": "45a70dcb-f965-4341-8999-97e9b07c9539",
   "metadata": {},
   "outputs": [],
   "source": [
    "def skeleton():\n",
    "    \"\"\"provides a starting point for creating your own model\"\"\"\n",
    "    #read in the training dataset\n",
    "    train = pd.read_csv('train.csv')\n",
    "    \n",
    "    #split the label out of the feature set\n",
    "    X = train.drop(\"Target\",axis=1)\n",
    "    y = train['Target']\n",
    "    \n",
    "    #====YOUR CODE HERE====\n",
    "    model = #TODO enter your model of choice\n",
    "    #Data engineering?\n",
    "    #hyperparameter tuning?\n",
    "\n",
    "    #fit the model to the training data\n",
    "    model.fit(X,y)\n",
    "    \n",
    "    #read in the test data and generate a CSV with the predicitons\n",
    "    test = pd.read_csv('test.csv')\n",
    "    pd.DataFrame(model.predict(test)).to_csv('preds.csv',header=False,index=False)"
   ]
  },
  {
   "cell_type": "markdown",
   "id": "6df19337-13f9-45a4-9ee0-d405c3720842",
   "metadata": {
    "jp-MarkdownHeadingCollapsed": true,
    "tags": []
   },
   "source": [
    "### Having trouble improving accuracy?\n",
    "\n",
    "#### Data Engineering\n",
    "*May not be necessary for all models*\n",
    "* Have you cleaned the data?\n",
    "* Are you differentiating between categorical and numerical features?\n",
    "* Have you standardized or normalized the data?\n",
    "* Have you tried engineering new features that combine knowledge from others?\n",
    "\n",
    "#### Model Selection\n",
    "* Maybe try looking [here](https://scikit-learn.org/stable/modules/supervised_learning.html) for ideas\n",
    "* Have you considered XGBoost, PyTorch, or TensorFlow? \n",
    "\n",
    "#### Hyperparameter Tuning\n",
    "* Are you doing it? [Try here](https://scikit-learn.org/stable/modules/grid_search.html)"
   ]
  }
 ],
 "metadata": {
  "kernelspec": {
   "display_name": "Python 3 (ipykernel)",
   "language": "python",
   "name": "python3"
  },
  "language_info": {
   "codemirror_mode": {
    "name": "ipython",
    "version": 3
   },
   "file_extension": ".py",
   "mimetype": "text/x-python",
   "name": "python",
   "nbconvert_exporter": "python",
   "pygments_lexer": "ipython3",
   "version": "3.10.9"
  }
 },
 "nbformat": 4,
 "nbformat_minor": 5
}
